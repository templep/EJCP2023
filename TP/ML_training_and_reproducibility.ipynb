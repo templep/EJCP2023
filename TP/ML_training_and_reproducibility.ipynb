{
 "cells": [
  {
   "cell_type": "code",
   "execution_count": 1,
   "id": "af831c00",
   "metadata": {},
   "outputs": [],
   "source": [
    "import numpy as np\n",
    "import pandas as pd\n",
    "from sklearn.model_selection import train_test_split\n",
    "from sklearn.metrics import accuracy_score"
   ]
  },
  {
   "cell_type": "code",
   "execution_count": 2,
   "id": "b4b6a2c8",
   "metadata": {},
   "outputs": [],
   "source": [
    "# data to be used -> UCI heart disease\n",
    "# from the university of California\n",
    "# data downloaded via https://github.com/sagnikghoshcr7/Heart-Disease-Prediction\n",
    "# seems ok with the description from UCI -> https://archive.ics.uci.edu/dataset/45/heart+disease"
   ]
  },
  {
   "cell_type": "code",
   "execution_count": 3,
   "id": "0e65bc31",
   "metadata": {},
   "outputs": [],
   "source": [
    "dataset = pd.read_csv('heart.csv')\n",
    "X = dataset.drop('target',axis=1)\n",
    "y = dataset['target'].values\n",
    "X_train,X_test,y_train,y_test = train_test_split(X,y,test_size=0.5,random_state=1)"
   ]
  },
  {
   "cell_type": "code",
   "execution_count": 6,
   "id": "416e2d82",
   "metadata": {},
   "outputs": [
    {
     "name": "stdout",
     "output_type": "stream",
     "text": [
      "     age  sex  cp  trestbps  chol  fbs  restecg  thalach  exang  oldpeak  \\\n",
      "0     63    1   3       145   233    1        0      150      0      2.3   \n",
      "1     37    1   2       130   250    0        1      187      0      3.5   \n",
      "2     41    0   1       130   204    0        0      172      0      1.4   \n",
      "3     56    1   1       120   236    0        1      178      0      0.8   \n",
      "4     57    0   0       120   354    0        1      163      1      0.6   \n",
      "..   ...  ...  ..       ...   ...  ...      ...      ...    ...      ...   \n",
      "298   57    0   0       140   241    0        1      123      1      0.2   \n",
      "299   45    1   3       110   264    0        1      132      0      1.2   \n",
      "300   68    1   0       144   193    1        1      141      0      3.4   \n",
      "301   57    1   0       130   131    0        1      115      1      1.2   \n",
      "302   57    0   1       130   236    0        0      174      0      0.0   \n",
      "\n",
      "     slope  ca  thal  \n",
      "0        0   0     1  \n",
      "1        0   0     2  \n",
      "2        2   0     2  \n",
      "3        2   0     2  \n",
      "4        2   0     2  \n",
      "..     ...  ..   ...  \n",
      "298      1   0     3  \n",
      "299      1   0     3  \n",
      "300      1   2     3  \n",
      "301      1   1     3  \n",
      "302      1   1     2  \n",
      "\n",
      "[303 rows x 13 columns]\n",
      "[1 1 1 1 1 1 1 1 1 1 1 1 1 1 1 1 1 1 1 1 1 1 1 1 1 1 1 1 1 1 1 1 1 1 1 1 1\n",
      " 1 1 1 1 1 1 1 1 1 1 1 1 1 1 1 1 1 1 1 1 1 1 1 1 1 1 1 1 1 1 1 1 1 1 1 1 1\n",
      " 1 1 1 1 1 1 1 1 1 1 1 1 1 1 1 1 1 1 1 1 1 1 1 1 1 1 1 1 1 1 1 1 1 1 1 1 1\n",
      " 1 1 1 1 1 1 1 1 1 1 1 1 1 1 1 1 1 1 1 1 1 1 1 1 1 1 1 1 1 1 1 1 1 1 1 1 1\n",
      " 1 1 1 1 1 1 1 1 1 1 1 1 1 1 1 1 1 0 0 0 0 0 0 0 0 0 0 0 0 0 0 0 0 0 0 0 0\n",
      " 0 0 0 0 0 0 0 0 0 0 0 0 0 0 0 0 0 0 0 0 0 0 0 0 0 0 0 0 0 0 0 0 0 0 0 0 0\n",
      " 0 0 0 0 0 0 0 0 0 0 0 0 0 0 0 0 0 0 0 0 0 0 0 0 0 0 0 0 0 0 0 0 0 0 0 0 0\n",
      " 0 0 0 0 0 0 0 0 0 0 0 0 0 0 0 0 0 0 0 0 0 0 0 0 0 0 0 0 0 0 0 0 0 0 0 0 0\n",
      " 0 0 0 0 0 0 0]\n",
      "     age  sex  cp  trestbps  chol  fbs  restecg  thalach  exang  oldpeak  \\\n",
      "207   60    0   0       150   258    0        0      157      0      2.6   \n",
      "116   41    1   2       130   214    0        0      168      0      2.0   \n",
      "244   56    1   0       132   184    0        0      105      1      2.1   \n",
      "142   42    0   2       120   209    0        1      173      0      0.0   \n",
      "236   58    1   0       125   300    0        0      171      0      0.0   \n",
      "..   ...  ...  ..       ...   ...  ...      ...      ...    ...      ...   \n",
      "203   68    1   2       180   274    1        0      150      1      1.6   \n",
      "255   45    1   0       142   309    0        0      147      1      0.0   \n",
      "72    29    1   1       130   204    0        0      202      0      0.0   \n",
      "235   51    1   0       140   299    0        1      173      1      1.6   \n",
      "37    54    1   2       150   232    0        0      165      0      1.6   \n",
      "\n",
      "     slope  ca  thal  \n",
      "207      1   2     3  \n",
      "116      1   0     2  \n",
      "244      1   1     1  \n",
      "142      1   0     2  \n",
      "236      2   2     3  \n",
      "..     ...  ..   ...  \n",
      "203      1   0     3  \n",
      "255      1   3     3  \n",
      "72       2   0     2  \n",
      "235      2   0     3  \n",
      "37       2   0     3  \n",
      "\n",
      "[151 rows x 13 columns]\n",
      "     age  sex  cp  trestbps  chol  fbs  restecg  thalach  exang  oldpeak  \\\n",
      "204   62    0   0       160   164    0        0      145      0      6.2   \n",
      "159   56    1   1       130   221    0        0      163      0      0.0   \n",
      "219   48    1   0       130   256    1        0      150      1      0.0   \n",
      "174   60    1   0       130   206    0        0      132      1      2.4   \n",
      "184   50    1   0       150   243    0        0      128      0      2.6   \n",
      "..   ...  ...  ..       ...   ...  ...      ...      ...    ...      ...   \n",
      "53    44    0   2       108   141    0        1      175      0      0.6   \n",
      "137   62    1   1       128   208    1        0      140      0      0.0   \n",
      "24    40    1   3       140   199    0        1      178      1      1.4   \n",
      "238   77    1   0       125   304    0        0      162      1      0.0   \n",
      "134   41    0   1       126   306    0        1      163      0      0.0   \n",
      "\n",
      "     slope  ca  thal  \n",
      "204      0   3     3  \n",
      "159      2   0     3  \n",
      "219      2   2     3  \n",
      "174      1   2     3  \n",
      "184      1   0     3  \n",
      "..     ...  ..   ...  \n",
      "53       1   0     2  \n",
      "137      2   0     2  \n",
      "24       2   0     3  \n",
      "238      2   3     2  \n",
      "134      2   0     2  \n",
      "\n",
      "[152 rows x 13 columns]\n",
      "total number of instance in test: 152\n",
      "[0 1 0 0 0 0 0 1 0 1 1 0 0 0 0 0 1 0 1 0 1 0 1 1 1 1 0 1 1 1 1 1 1 1 0 1 1\n",
      " 0 0 1 1 0 1 0 0 0 0 1 0 1 1 0 0 1 1 1 1 0 0 0 1 1 1 1 0 1 1 0 1 0 1 1 0 1\n",
      " 0 1 0 0 0 1 1 1 0 1 1 1 1 1 1 0 0 1 0 0 1 0 0 0 1 1 1 0 0 1 0 1 0 0 1 1 0\n",
      " 0 1 1 0 1 0 1 0 0 0 1 0 1 1 0 0 1 0 1 1 0 1 0 0 1 0 1 0 0 1 0 0 1 1 1 1 1\n",
      " 1 1 0 1]\n",
      "total number of instance in test with class 1: 81\n"
     ]
    }
   ],
   "source": [
    "# look if split looks okayish\n",
    "print(X)\n",
    "print(y)\n",
    "print(X_train)\n",
    "print(X_test)\n",
    "\n",
    "count = np.sum(y_test == 1)\n",
    "print(\"total number of instance in test: \" + str(len(y_test)))\n",
    "print(y_test)\n",
    "print(\"total number of instance in test with class 1: \"+str(count))"
   ]
  },
  {
   "cell_type": "code",
   "execution_count": 9,
   "id": "75bba087",
   "metadata": {},
   "outputs": [
    {
     "data": {
      "text/plain": [
       "SVC(C=1000000.0, class_weight={0: 120.0, 1: 1e-06}, degree=1, gamma=1524659461,\n",
       "    kernel='linear')"
      ]
     },
     "execution_count": 9,
     "metadata": {},
     "output_type": "execute_result"
    }
   ],
   "source": [
    "## train a ML model \n",
    "## for instance SVC and change parameters: C (float value), kernel (between 'linear','poly','rbf'), gamma (float value),\n",
    "# class_weight (dictionnary that should pair classes with a float value), degree (integer)\n",
    "## here is an example: model = SVC(C=1000000.0,kernel='linear',gamma=1524659461,class_weight={0:120.0, 1:0.000001})\n",
    "from sklearn.svm import SVC\n",
    "model = SVC(C=1000000.0,kernel='linear',gamma=1524659461,class_weight={0:120.0, 1:0.000001},degree=1)\n",
    "\n",
    "model.fit(X_train,y_train)\n"
   ]
  },
  {
   "cell_type": "code",
   "execution_count": 10,
   "id": "615506f0",
   "metadata": {},
   "outputs": [
    {
     "data": {
      "text/plain": [
       "0.6578947368421053"
      ]
     },
     "execution_count": 10,
     "metadata": {},
     "output_type": "execute_result"
    }
   ],
   "source": [
    "y_pred = model.predict(X_test)\n",
    "\n",
    "accuracy_score(y_test,y_pred)\n"
   ]
  },
  {
   "cell_type": "code",
   "execution_count": 4,
   "id": "11687375",
   "metadata": {},
   "outputs": [
    {
     "data": {
      "text/plain": [
       "DecisionTreeClassifier(max_depth=150, max_features=12, min_samples_split=150000)"
      ]
     },
     "execution_count": 4,
     "metadata": {},
     "output_type": "execute_result"
    }
   ],
   "source": [
    "## train a ML model \n",
    "## decision trees and change parameters: criterion (between 'gini' and 'entropy'), splitter (between 'best' and 'random'\n",
    "## , max_depth (int value), min_samples_split (int value), max_feature (int value or 'sqrt' or 'log2', default value is None and consider all features max)\n",
    "## , class_weight (dictionnary that should pair classes with a float value)\n",
    "# class_weight (dictionnary that should pair classes with a float value), degree (integer)\n",
    "## here is an example: model = tree.DecisionTreeClassifier(criterion='gini',splitter='best',min_samples_split=150000,max_depth=150,max_features=12)\n",
    "## here is another example: model = tree.DecisionTreeClassifier(criterion='gini',splitter='random',max_depth=150,max_features=None,class_weight={0:120.0, 1:0.000001})\n",
    "from sklearn import tree\n",
    "#clf = tree.DecisionTreeClassifier(criterion='gini',splitter='best',max_depth=150,max_features=12)\n",
    "clf = tree.DecisionTreeClassifier(criterion='gini',splitter='best',min_samples_split=150000,max_depth=150,max_features=12)\n",
    "clf.fit(X_train,y_train)"
   ]
  },
  {
   "cell_type": "code",
   "execution_count": 5,
   "id": "c1ee1599",
   "metadata": {},
   "outputs": [
    {
     "data": {
      "text/plain": [
       "0.5328947368421053"
      ]
     },
     "execution_count": 5,
     "metadata": {},
     "output_type": "execute_result"
    }
   ],
   "source": [
    "y_pred_tree = clf.predict(X_test)\n",
    "\n",
    "accuracy_score(y_test,y_pred_tree)"
   ]
  },
  {
   "cell_type": "code",
   "execution_count": null,
   "id": "92a862da",
   "metadata": {},
   "outputs": [],
   "source": []
  }
 ],
 "metadata": {
  "kernelspec": {
   "display_name": "Python 3 (ipykernel)",
   "language": "python",
   "name": "python3"
  },
  "language_info": {
   "codemirror_mode": {
    "name": "ipython",
    "version": 3
   },
   "file_extension": ".py",
   "mimetype": "text/x-python",
   "name": "python",
   "nbconvert_exporter": "python",
   "pygments_lexer": "ipython3",
   "version": "3.9.12"
  }
 },
 "nbformat": 4,
 "nbformat_minor": 5
}
